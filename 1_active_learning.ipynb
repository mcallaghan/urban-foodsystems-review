{
 "cells": [
  {
   "cell_type": "code",
   "execution_count": 5,
   "metadata": {},
   "outputs": [],
   "source": [
    "import os.path\n",
    "import sys\n",
    "import django\n",
    "sys.path.append('/home/galm/software/django/tmv/BasicBrowser')\n",
    "sys.path.append('/home/max/software/django-tmv/tmv_mcc-apsis/BasicBrowser')\n",
    "os.environ.setdefault(\"DJANGO_SETTINGS_MODULE\", \"BasicBrowser.settings\")\n",
    "django.setup()\n",
    "import scoping\n",
    "from scoping.models import *\n",
    "from utils.text import *\n",
    "\n",
    "from sklearn.feature_extraction.text import CountVectorizer, TfidfVectorizer, TfidfTransformer\n",
    "from sklearn.metrics import f1_score, precision_score, recall_score, roc_auc_score, accuracy_score\n",
    "from sklearn.svm import SVC\n",
    "\n",
    "import pandas as pd\n",
    "import numpy as np\n",
    "\n",
    "import pickle\n",
    "import scipy.sparse\n",
    "\n",
    "import matplotlib.pyplot as plt\n",
    "\n",
    "from matplotlib import rc\n",
    "rc('text', usetex=True)"
   ]
  },
  {
   "cell_type": "markdown",
   "metadata": {},
   "source": [
    "# Get the labelled documents in the right order, and check if we are ready to stop screening"
   ]
  },
  {
   "cell_type": "code",
   "execution_count": 7,
   "metadata": {},
   "outputs": [
    {
     "data": {
      "text/html": [
       "<div>\n",
       "<style scoped>\n",
       "    .dataframe tbody tr th:only-of-type {\n",
       "        vertical-align: middle;\n",
       "    }\n",
       "\n",
       "    .dataframe tbody tr th {\n",
       "        vertical-align: top;\n",
       "    }\n",
       "\n",
       "    .dataframe thead th {\n",
       "        text-align: right;\n",
       "    }\n",
       "</style>\n",
       "<table border=\"1\" class=\"dataframe\">\n",
       "  <thead>\n",
       "    <tr style=\"text-align: right;\">\n",
       "      <th></th>\n",
       "      <th>order</th>\n",
       "      <th>id</th>\n",
       "    </tr>\n",
       "  </thead>\n",
       "  <tbody>\n",
       "    <tr>\n",
       "      <th>0</th>\n",
       "      <td>0</td>\n",
       "      <td>7</td>\n",
       "    </tr>\n",
       "    <tr>\n",
       "      <th>1</th>\n",
       "      <td>1</td>\n",
       "      <td>945</td>\n",
       "    </tr>\n",
       "    <tr>\n",
       "      <th>2</th>\n",
       "      <td>2</td>\n",
       "      <td>1124</td>\n",
       "    </tr>\n",
       "    <tr>\n",
       "      <th>3</th>\n",
       "      <td>3</td>\n",
       "      <td>1247</td>\n",
       "    </tr>\n",
       "    <tr>\n",
       "      <th>4</th>\n",
       "      <td>4</td>\n",
       "      <td>1934</td>\n",
       "    </tr>\n",
       "  </tbody>\n",
       "</table>\n",
       "</div>"
      ],
      "text/plain": [
       "   order    id\n",
       "0      0     7\n",
       "1      1   945\n",
       "2      2  1124\n",
       "3      3  1247\n",
       "4      4  1934"
      ]
     },
     "execution_count": 7,
     "metadata": {},
     "output_type": "execute_result"
    }
   ],
   "source": [
    "# Here are the labels in the order they were created\n",
    "dos = (pd.DataFrame.from_dict(DocOwnership.objects.filter(query__project=292, relevant__gt=0).order_by('id').values('id','doc_id'))\n",
    "       .groupby('doc_id')\n",
    "       .first()\n",
    "       .sort_values('id')\n",
    "       .reset_index()\n",
    "       .reset_index()\n",
    "       .drop(columns=\"id\")\n",
    "       .rename(columns={\"doc_id\":\"id\",\"index\":\"order\"})\n",
    "      )\n",
    "dos.head()"
   ]
  },
  {
   "cell_type": "code",
   "execution_count": 8,
   "metadata": {},
   "outputs": [
    {
     "name": "stdout",
     "output_type": "stream",
     "text": [
      "(11764, 8)\n"
     ]
    },
    {
     "data": {
      "text/html": [
       "<div>\n",
       "<style scoped>\n",
       "    .dataframe tbody tr th:only-of-type {\n",
       "        vertical-align: middle;\n",
       "    }\n",
       "\n",
       "    .dataframe tbody tr th {\n",
       "        vertical-align: top;\n",
       "    }\n",
       "\n",
       "    .dataframe thead th {\n",
       "        text-align: right;\n",
       "    }\n",
       "</style>\n",
       "<table border=\"1\" class=\"dataframe\">\n",
       "  <thead>\n",
       "    <tr style=\"text-align: right;\">\n",
       "      <th></th>\n",
       "      <th>id</th>\n",
       "      <th>content</th>\n",
       "      <th>title</th>\n",
       "      <th>wosarticle__de</th>\n",
       "      <th>wosarticle__wc</th>\n",
       "      <th>relevant</th>\n",
       "      <th>seen</th>\n",
       "      <th>order</th>\n",
       "    </tr>\n",
       "  </thead>\n",
       "  <tbody>\n",
       "    <tr>\n",
       "      <th>11759</th>\n",
       "      <td>4465579</td>\n",
       "      <td>Changes in climate and urbanisation rapidly af...</td>\n",
       "      <td>Why not beans?</td>\n",
       "      <td>agricultural practice; aluminum; climate chang...</td>\n",
       "      <td>NaN</td>\n",
       "      <td>0.0</td>\n",
       "      <td>1.0</td>\n",
       "      <td>11790</td>\n",
       "    </tr>\n",
       "    <tr>\n",
       "      <th>11760</th>\n",
       "      <td>5016063</td>\n",
       "      <td>Bats show responses to anthropogenic stressors...</td>\n",
       "      <td>Do we need to use bats as bioindicators?</td>\n",
       "      <td>Biodiversity; Chiroptera; Climate change; Envi...</td>\n",
       "      <td>NaN</td>\n",
       "      <td>0.0</td>\n",
       "      <td>1.0</td>\n",
       "      <td>11791</td>\n",
       "    </tr>\n",
       "    <tr>\n",
       "      <th>11761</th>\n",
       "      <td>1546907</td>\n",
       "      <td>Different types of managed aquifer recharge (M...</td>\n",
       "      <td>Inventory of managed aquifer recharge sites in...</td>\n",
       "      <td>Artificial recharge; History of hydrogeology; ...</td>\n",
       "      <td>['Geosciences, Multidisciplinary; Water Resour...</td>\n",
       "      <td>0.0</td>\n",
       "      <td>1.0</td>\n",
       "      <td>11792</td>\n",
       "    </tr>\n",
       "    <tr>\n",
       "      <th>11762</th>\n",
       "      <td>5017183</td>\n",
       "      <td>The “spatial turn”, represented primarily by t...</td>\n",
       "      <td>Production of space, intercultural encounters ...</td>\n",
       "      <td>Bedouin; consummate space; indigenous ontologi...</td>\n",
       "      <td>NaN</td>\n",
       "      <td>0.0</td>\n",
       "      <td>1.0</td>\n",
       "      <td>11793</td>\n",
       "    </tr>\n",
       "    <tr>\n",
       "      <th>11763</th>\n",
       "      <td>5031319</td>\n",
       "      <td>Costa (2013) describes how Talcott Parsons nor...</td>\n",
       "      <td>Consuming the family and the meal: Representat...</td>\n",
       "      <td>Discourse; MST; Press</td>\n",
       "      <td>NaN</td>\n",
       "      <td>0.0</td>\n",
       "      <td>1.0</td>\n",
       "      <td>11794</td>\n",
       "    </tr>\n",
       "  </tbody>\n",
       "</table>\n",
       "</div>"
      ],
      "text/plain": [
       "            id                                            content  \\\n",
       "11759  4465579  Changes in climate and urbanisation rapidly af...   \n",
       "11760  5016063  Bats show responses to anthropogenic stressors...   \n",
       "11761  1546907  Different types of managed aquifer recharge (M...   \n",
       "11762  5017183  The “spatial turn”, represented primarily by t...   \n",
       "11763  5031319  Costa (2013) describes how Talcott Parsons nor...   \n",
       "\n",
       "                                                   title  \\\n",
       "11759                                     Why not beans?   \n",
       "11760           Do we need to use bats as bioindicators?   \n",
       "11761  Inventory of managed aquifer recharge sites in...   \n",
       "11762  Production of space, intercultural encounters ...   \n",
       "11763  Consuming the family and the meal: Representat...   \n",
       "\n",
       "                                          wosarticle__de  \\\n",
       "11759  agricultural practice; aluminum; climate chang...   \n",
       "11760  Biodiversity; Chiroptera; Climate change; Envi...   \n",
       "11761  Artificial recharge; History of hydrogeology; ...   \n",
       "11762  Bedouin; consummate space; indigenous ontologi...   \n",
       "11763                              Discourse; MST; Press   \n",
       "\n",
       "                                          wosarticle__wc  relevant  seen  \\\n",
       "11759                                                NaN       0.0   1.0   \n",
       "11760                                                NaN       0.0   1.0   \n",
       "11761  ['Geosciences, Multidisciplinary; Water Resour...       0.0   1.0   \n",
       "11762                                                NaN       0.0   1.0   \n",
       "11763                                                NaN       0.0   1.0   \n",
       "\n",
       "       order  \n",
       "11759  11790  \n",
       "11760  11791  \n",
       "11761  11792  \n",
       "11762  11793  \n",
       "11763  11794  "
      ]
     },
     "execution_count": 8,
     "metadata": {},
     "output_type": "execute_result"
    }
   ],
   "source": [
    "# Here are the unlabelled documents \n",
    "unlabelled_docs = pd.read_csv('data/0_unlabelled_documents.csv')\n",
    "\n",
    "# And the labelled ones, in the order they were seen\n",
    "df = pd.read_csv(\"data/0_labelled_documents.csv\").merge(dos,how=\"left\")\n",
    "df.loc[~df['id'].isin(dos.id),'order'] = -1\n",
    "df = df.sort_values('order').reset_index(drop=True)\n",
    "df = df[pd.notna(df['relevant'])].reset_index(drop=True)\n",
    "print(df.shape)\n",
    "\n",
    "n_docs = df.shape[0] + unlabelled_docs.shape[0]\n",
    "\n",
    "df.tail()"
   ]
  },
  {
   "cell_type": "code",
   "execution_count": 9,
   "metadata": {},
   "outputs": [
    {
     "data": {
      "image/png": "[encoded data removed]",
      "text/plain": [
       "<Figure size 576x360 with 2 Axes>"
      ]
     },
     "metadata": {},
     "output_type": "display_data"
    }
   ],
   "source": [
    "# Here's the progress we are making so far\n",
    "fig, axs = plt.subplots(1,2,figsize=(8,5))\n",
    "df.relevant.cumsum().plot(ax=axs[0])\n",
    "axs[0].set_xlabel(\"Documents seen\")\n",
    "axs[0].set_ylabel(\"Relevant documents seen\")\n",
    "\n",
    "df.relevant.rolling(window=100).mean().plot(ax=axs[1])\n",
    "axs[1].set_xlabel(\"Documents seen\")\n",
    "axs[1].set_ylabel(\"Rolling average proportion of relevant documents\")\n",
    "\n",
    "fig.tight_layout()"
   ]
  },
  {
   "cell_type": "code",
   "execution_count": 12,
   "metadata": {},
   "outputs": [],
   "source": [
    "# Here's how we calculate the minimum number of relevant documents in our sample consistent with the null hypothesis\n",
    "import math\n",
    "def get_K_hat(r_seen,tau_target,r_ML):\n",
    "    return(math.floor(r_seen/tau_target - r_ML+1))\n",
    "\n",
    "vec_get_K_hat = np.vectorize(get_K_hat)"
   ]
  },
  {
   "cell_type": "code",
   "execution_count": 16,
   "metadata": {},
   "outputs": [],
   "source": [
    "# These are the recall targets we want to assess\n",
    "tau_targets = [\n",
    "    {\"tau_target\": 0.5},\n",
    "    {\"tau_target\": 0.66},\n",
    "    {\"tau_target\": 0.75},\n",
    "    {\"tau_target\": 0.9},\n",
    "    {\"tau_target\": 0.95}\n",
    "]"
   ]
  },
  {
   "cell_type": "code",
   "execution_count": 17,
   "metadata": {},
   "outputs": [],
   "source": [
    "from scipy.stats import hypergeom\n",
    "\n",
    "for t in tau_targets:\n",
    "    t['ps'] = np.zeros(df.shape[0])\n",
    "    # Go through the index in steps of 50\n",
    "    for i in df.index[::50]:\n",
    "        docs = df.relevant.values[:i+1] # These are all the documents we consider in this step\n",
    "        sample = docs[::-1] # This will be considered a random sample, that is we treat the last 1, last 2... documents as a random sample\n",
    "        r_seen = docs.sum() # This is the total number of relevant docs seen at this point\n",
    "        K_hat = vec_get_K_hat(\n",
    "            r_seen, # The total number of relevant documents seen\n",
    "            t['tau_target'], # The recall target\n",
    "            r_seen-sample.cumsum() # The number of relevant documents seen before the sample began\n",
    "        )\n",
    "        n_sample = np.arange(1,sample.shape[0]+1) # the number of documents in the sample (an array from 1 to maximum sample length)\n",
    "        p = hypergeom.cdf( # the probability of observing\n",
    "            sample.cumsum(), # the number of relevant documents in the sample\n",
    "            n_docs - i + n_sample, # In a population made up out of the sample and all remaining docs \n",
    "            K_hat, # Where K_hat docs in the population are actually relevant\n",
    "            n_sample # After observing this many documents\n",
    "        )\n",
    "        t['ps'][i] = min(p)\n"
   ]
  },
  {
   "cell_type": "code",
   "execution_count": 20,
   "metadata": {
    "scrolled": false
   },
   "outputs": [
    {
     "data": {
      "text/latex": [
       "$p=1.2e-53$ for $H_0$ that recall of 0.5 has not been achieved"
      ],
      "text/plain": [
       "<IPython.core.display.Latex object>"
      ]
     },
     "metadata": {},
     "output_type": "display_data"
    },
    {
     "data": {
      "text/latex": [
       "$p=8.7e-23$ for $H_0$ that recall of 0.66 has not been achieved"
      ],
      "text/plain": [
       "<IPython.core.display.Latex object>"
      ]
     },
     "metadata": {},
     "output_type": "display_data"
    },
    {
     "data": {
      "text/latex": [
       "$p=1.7e-13$ for $H_0$ that recall of 0.75 has not been achieved"
      ],
      "text/plain": [
       "<IPython.core.display.Latex object>"
      ]
     },
     "metadata": {},
     "output_type": "display_data"
    },
    {
     "data": {
      "text/latex": [
       "$p=0.0011$ for $H_0$ that recall of 0.9 has not been achieved"
      ],
      "text/plain": [
       "<IPython.core.display.Latex object>"
      ]
     },
     "metadata": {},
     "output_type": "display_data"
    },
    {
     "data": {
      "text/latex": [
       "$p=0.068$ for $H_0$ that recall of 0.95 has not been achieved"
      ],
      "text/plain": [
       "<IPython.core.display.Latex object>"
      ]
     },
     "metadata": {},
     "output_type": "display_data"
    },
    {
     "data": {
      "text/plain": [
       "Text(0, 0.5, '$p$ $H0$')"
      ]
     },
     "execution_count": 20,
     "metadata": {},
     "output_type": "execute_result"
    },
    {
     "data": {
      "image/png": "[encoded data removed]",
      "text/plain": [
       "<Figure size 576x576 with 2 Axes>"
      ]
     },
     "metadata": {},
     "output_type": "display_data"
    }
   ],
   "source": [
    "from IPython.display import display, Latex\n",
    "\n",
    "# Here's the progress we are making so far\n",
    "fig, axs = plt.subplots(2,1,figsize=(8,8))\n",
    "df.relevant.cumsum().plot(ax=axs[0])\n",
    "axs[0].set_xlabel(\"Documents seen\")\n",
    "axs[0].set_ylabel(\"Relevant documents seen\")\n",
    "\n",
    "for t in tau_targets:\n",
    "    t['ps'][t['ps']==0] = np.NaN\n",
    "    y = t['ps'][~np.isnan(t['ps'])]\n",
    "    x = np.argwhere(~np.isnan(t['ps']))\n",
    "    axs[1].plot(x,y,label=t['tau_target'])\n",
    "    display(Latex(f\"$p={min(y):.2}$ for $H_0$ that recall of {t['tau_target']} has not been achieved\"))\n",
    "    \n",
    "axs[1].legend()\n",
    "axs[1].set_xlabel(\"Documents seen\")\n",
    "axs[1].set_ylabel(\"$p$ $H0$\")\n"
   ]
  },
  {
   "cell_type": "code",
   "execution_count": 30,
   "metadata": {},
   "outputs": [
    {
     "data": {
      "text/plain": [
       "0.731586675565803"
      ]
     },
     "execution_count": 30,
     "metadata": {},
     "output_type": "execute_result"
    },
    {
     "data": {
      "image/png": "[encoded data removed]",
      "text/plain": [
       "<Figure size 432x288 with 1 Axes>"
      ]
     },
     "metadata": {},
     "output_type": "display_data"
    }
   ],
   "source": [
    "fig, ax = plt.subplots()\n",
    "df.relevant.cumsum().plot(ax=ax)\n",
    "ax.plot([0,n_docs],[0,df.relevant.sum()/0.95],c=\"grey\", ls=\"--\")\n",
    "(n_docs - df.shape[0]) / n_docs*0.96"
   ]
  },
  {
   "cell_type": "markdown",
   "metadata": {},
   "source": [
    "# Now predict the most relevant of the remaining results and assign them to screeners"
   ]
  },
  {
   "cell_type": "code",
   "execution_count": null,
   "metadata": {},
   "outputs": [],
   "source": [
    "# Now load and merge the seen and unseen documents\n",
    "seen_df = pd.read_csv('data/0_labelled_documents.csv')\n",
    "unseen_df = pd.read_csv('data/0_unlabelled_documents.csv')\n",
    "df = (pd.concat([seen_df,unseen_df])\n",
    "      .sort_values('id')\n",
    "      .sample(frac=1, random_state=1)\n",
    "      .reset_index(drop=True)\n",
    ")\n",
    "\n",
    "seen_index = df[df['seen']==1].index\n",
    "unseen_index = df[df['seen']==0].index\n",
    "\n",
    "print(df.shape)\n",
    "df.head()"
   ]
  },
  {
   "cell_type": "code",
   "execution_count": null,
   "metadata": {},
   "outputs": [],
   "source": [
    "from sklearn.pipeline import Pipeline\n",
    "from sklearn.model_selection import GridSearchCV\n",
    "\n",
    "# Here we define the whole ML pipeline starting from creating features to training a classifier\n",
    "\n",
    "pipeline = Pipeline([\n",
    "    ('vect', TfidfVectorizer()),\n",
    "    ('clf', SVC(probability=True,  class_weight=\"balanced\")),\n",
    "])\n",
    "\n",
    "# Now we define the parameter space we want to search. This gets computationally expensive the \n",
    "# more parameters we search, as we fit a model for every unique combination of parameters (there are fancier and smarter ways to do this)\n",
    "\n",
    "parameters = [\n",
    "    {\n",
    "        'vect__max_df': (0.5,),\n",
    "        'vect__min_df': (5, 10, 15),\n",
    "        'vect__ngram_range': ((1, 1), (1, 2)),  \n",
    "        'clf__kernel': ['rbf'], \n",
    "        'clf__gamma': [1e-3, 1e-4], # Because only the rbf kernel has the gamma parameters, we do this separately\n",
    "        'clf__C': [1, 1e1, 1e2]\n",
    "    },\n",
    "    {\n",
    "        'vect__max_df': (0.5,),\n",
    "        'vect__min_df': (5, 10, 15),\n",
    "        'vect__ngram_range': ((1, 1), (1, 2)),  \n",
    "        'clf__kernel': ['linear'], \n",
    "        'clf__C': [1e2, 1e3]\n",
    "    }\n",
    "]\n",
    "\n",
    "clf = GridSearchCV(pipeline, parameters, scoring=\"f1\", n_jobs=4, verbose=1)"
   ]
  },
  {
   "cell_type": "code",
   "execution_count": null,
   "metadata": {},
   "outputs": [],
   "source": [
    "# We can either retrain this each time, or load it with the best performing model from last time\n",
    "retrain = False\n",
    "if retrain:\n",
    "    # Now we fit them, by default we try a model for each set of parameters for 5 folds of train/test data\n",
    "    # Even with this running in parallel (n_jobs=8) this might be time to get a coffee\n",
    "    clf.fit(df.loc[seen_index, 'content'], df.loc[seen_index,'relevant'])\n",
    "    # The best model is the combination of parameters with the highest mean score across 5 folds\n",
    "    clf.best_estimator_\n",
    "    results = pd.DataFrame(clf.cv_results_)\n",
    "    results.head()\n",
    "    f1_scores = [results[f\"split{x}_test_score\"].values[0] for x in range(5)]\n",
    "    print(np.mean(f1_scores))\n",
    "\n",
    "    fig, ax = plt.subplots()\n",
    "\n",
    "    ax.boxplot(f1_scores)\n",
    "    ax.set_ylim([0,1])\n",
    "    ax.grid(axis=\"y\")\n",
    "    ax.set_xticklabels([\"Best performing model\"])\n",
    "    ax.set_ylabel('F1 score')\n",
    "else:\n",
    "    # No time to retrain, we'll just take the pipeline with the best performance from last time\n",
    "    clf = Pipeline(steps=[\n",
    "        ('vect', TfidfVectorizer(max_df=0.5, min_df=5, ngram_range=(1,2))),\n",
    "        ('clf', SVC(C=100.0, class_weight='balanced', probability=True))\n",
    "    ])\n",
    "    clf.fit(df.loc[seen_index, 'content'], df.loc[seen_index,'relevant'])"
   ]
  },
  {
   "cell_type": "code",
   "execution_count": null,
   "metadata": {},
   "outputs": [],
   "source": [
    "# Use the trained best performing model to predict the relevance of the unseen documents\n",
    "y_pred = clf.predict_proba(df.loc[unseen_index,'content'])\n",
    "\n",
    "# Put these predictions in the \"prediction\" column of the dataframe\n",
    "df['prediction'] = None\n",
    "df['prediction'][unseen_index] = y_pred[:,1]\n",
    "\n",
    "# plot the predictions in order\n",
    "fig, ax = plt.subplots()\n",
    "\n",
    "pdf = df.sort_values('prediction').reset_index(drop=True)\n",
    "ax.plot(pdf.index,pdf['prediction'])\n",
    "ax.axhline(0.5,linestyle=\"--\",color=\"grey\")\n",
    "\n",
    "# How many documents have a predicted value greater than 0.5?\n",
    "print(pdf[pdf['prediction']>0.5].shape[0])\n",
    "\n",
    "plt.show()"
   ]
  },
  {
   "cell_type": "code",
   "execution_count": null,
   "metadata": {},
   "outputs": [],
   "source": [
    "\n",
    "django.db.connection.close()\n",
    "\n",
    "# Get all the documents already assigned\n",
    "assigned = set(DocOwnership.objects.filter(query=10452).values_list('doc_id',flat=True))\n",
    "\n",
    "q = Query.objects.get(pk=10452)\n",
    "# Make a new tag\n",
    "tag, created = Tag.objects.get_or_create(\n",
    "    query=q,\n",
    "    title=\"ML Prioritised 8\"\n",
    ")\n",
    "\n",
    "# Get the list of users assigned to this query\n",
    "users = list(q.users.all())\n",
    "\n",
    "# for each row in the first 1000 rows of the dataframe (where the id has not already been assigned) ...\n",
    "# in descending order, up to the first \n",
    "for i, row in df[~df['id'].isin(assigned)].sort_values('prediction',ascending=False).reset_index(drop=True).head(1000).iterrows():\n",
    "    # cycle through the users as we go\n",
    "    u = users[i%len(users)]\n",
    "    # Create a document assignment for this document at this user\n",
    "    do, created = DocOwnership.objects.get_or_create(\n",
    "        user=u,\n",
    "        doc_id=row['id'],\n",
    "        query=q,\n",
    "        tag=tag\n",
    "    )\n",
    "        \n",
    "tag.update_tag()"
   ]
  },
  {
   "cell_type": "code",
   "execution_count": null,
   "metadata": {},
   "outputs": [],
   "source": []
  },
  {
   "cell_type": "code",
   "execution_count": null,
   "metadata": {},
   "outputs": [],
   "source": []
  }
 ],
 "metadata": {
  "kernelspec": {
   "display_name": "tmv",
   "language": "python",
   "name": "tmv"
  },
  "language_info": {
   "codemirror_mode": {
    "name": "ipython",
    "version": 3
   },
   "file_extension": ".py",
   "mimetype": "text/x-python",
   "name": "python",
   "nbconvert_exporter": "python",
   "pygments_lexer": "ipython3",
   "version": "3.6.7"
  },
  "varInspector": {
   "cols": {
    "lenName": 16,
    "lenType": 16,
    "lenVar": 40
   },
   "kernels_config": {
    "python": {
     "delete_cmd_postfix": "",
     "delete_cmd_prefix": "del ",
     "library": "var_list.py",
     "varRefreshCmd": "print(var_dic_list())"
    },
    "r": {
     "delete_cmd_postfix": ") ",
     "delete_cmd_prefix": "rm(",
     "library": "var_list.r",
     "varRefreshCmd": "cat(var_dic_list()) "
    }
   },
   "types_to_exclude": [
    "module",
    "function",
    "builtin_function_or_method",
    "instance",
    "_Feature"
   ],
   "window_display": false
  }
 },
 "nbformat": 4,
 "nbformat_minor": 4
}
